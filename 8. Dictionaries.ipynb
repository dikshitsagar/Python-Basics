{
 "cells": [
  {
   "cell_type": "markdown",
   "metadata": {},
   "source": [
    "## Dictionary\n",
    "- ####  A dictionary is a collection which is unordered, changeable and indexed. In Python dictionaries are written with curly brackets, and they have keys and values.\n",
    "- ####  dictionaries are the python version of the hash functions.\n",
    "- ####  They allows us to create 'Mapping' between key-values pairs.\n",
    "- #### they won't retain any order.\n",
    "\n"
   ]
  },
  {
   "cell_type": "code",
   "execution_count": 2,
   "metadata": {},
   "outputs": [],
   "source": [
    "mydetails = {'Name': 'Dikshit', 'age': 23, 'Gender': 'Male', 'DOB' : '15-01-1997'}"
   ]
  },
  {
   "cell_type": "code",
   "execution_count": 3,
   "metadata": {
    "tags": []
   },
   "outputs": [
    {
     "name": "stdout",
     "output_type": "stream",
     "text": [
      "{'Name': 'Dikshit', 'age': 23, 'Gender': 'Male', 'DOB': '15-01-1997'}\n"
     ]
    }
   ],
   "source": [
    "print(mydetails)"
   ]
  },
  {
   "cell_type": "code",
   "execution_count": 4,
   "metadata": {
    "tags": []
   },
   "outputs": [
    {
     "name": "stdout",
     "output_type": "stream",
     "text": [
      "23\n"
     ]
    }
   ],
   "source": [
    "print(mydetails['age'])"
   ]
  },
  {
   "cell_type": "code",
   "execution_count": 5,
   "metadata": {},
   "outputs": [],
   "source": [
    "mydetails2 = {'Name': 'Dikshit', 'age': 23, 'Gender': 'Male', 'DOB': '15-01-1997', 'Tech': ['Mobile','Earbuds','phone']}"
   ]
  },
  {
   "cell_type": "code",
   "execution_count": 6,
   "metadata": {},
   "outputs": [
    {
     "data": {
      "text/plain": [
       "['Mobile', 'Earbuds', 'phone']"
      ]
     },
     "execution_count": 6,
     "metadata": {},
     "output_type": "execute_result"
    }
   ],
   "source": [
    "mydetails2['Tech']"
   ]
  },
  {
   "cell_type": "code",
   "execution_count": 7,
   "metadata": {},
   "outputs": [
    {
     "data": {
      "text/plain": [
       "'phone'"
      ]
     },
     "execution_count": 7,
     "metadata": {},
     "output_type": "execute_result"
    }
   ],
   "source": [
    "mydetails2['Tech'][2]"
   ]
  },
  {
   "cell_type": "code",
   "execution_count": 8,
   "metadata": {},
   "outputs": [],
   "source": [
    "mydetails2['Tech'][0] = 'Samsung Mobile'"
   ]
  },
  {
   "cell_type": "code",
   "execution_count": 9,
   "metadata": {},
   "outputs": [
    {
     "data": {
      "text/plain": [
       "{'Name': 'Dikshit',\n",
       " 'age': 23,\n",
       " 'Gender': 'Male',\n",
       " 'DOB': '15-01-1997',\n",
       " 'Tech': ['Samsung Mobile', 'Earbuds', 'phone']}"
      ]
     },
     "execution_count": 9,
     "metadata": {},
     "output_type": "execute_result"
    }
   ],
   "source": [
    "mydetails2"
   ]
  },
  {
   "cell_type": "code",
   "execution_count": 10,
   "metadata": {},
   "outputs": [],
   "source": [
    "mydetails2['Tech'].append('Smart watch')"
   ]
  },
  {
   "cell_type": "code",
   "execution_count": 11,
   "metadata": {},
   "outputs": [
    {
     "data": {
      "text/plain": [
       "{'Name': 'Dikshit',\n",
       " 'age': 23,\n",
       " 'Gender': 'Male',\n",
       " 'DOB': '15-01-1997',\n",
       " 'Tech': ['Samsung Mobile', 'Earbuds', 'phone', 'Smart watch']}"
      ]
     },
     "execution_count": 11,
     "metadata": {},
     "output_type": "execute_result"
    }
   ],
   "source": [
    "mydetails2"
   ]
  },
  {
   "cell_type": "code",
   "execution_count": 12,
   "metadata": {},
   "outputs": [],
   "source": [
    "mydetails3 = {'Name': 'Dikshit',\n",
    " 'age': 23,\n",
    " 'Gender': 'Male',\n",
    " 'DOB': '15-01-1997',\n",
    " 'Tech': {'Mobile' : {'Brand': 'Samsung', 'Name': 'M40', 'RAM' : '6 GB' }, 'Smartwatch' :{'Color':'Black','size' : 40}}}"
   ]
  },
  {
   "cell_type": "code",
   "execution_count": 13,
   "metadata": {},
   "outputs": [
    {
     "data": {
      "text/plain": [
       "'6 GB'"
      ]
     },
     "execution_count": 13,
     "metadata": {},
     "output_type": "execute_result"
    }
   ],
   "source": [
    "mydetails3['Tech']['Mobile']['RAM']"
   ]
  },
  {
   "cell_type": "code",
   "execution_count": 14,
   "metadata": {
    "tags": []
   },
   "outputs": [
    {
     "name": "stdout",
     "output_type": "stream",
     "text": [
      "{'Name': 'Dikshit', 'age': 23, 'Gender': 'Male', 'DOB': '15-01-1997', 'Tech': {'Mobile': {'Brand': 'Samsung', 'Name': 'M40', 'RAM': '8 GB'}, 'Smartwatch': {'Color': 'Black', 'size': 40}}}\n"
     ]
    }
   ],
   "source": [
    "mydetails3['Tech']['Mobile']['RAM'] = '8 GB'\n",
    "print(mydetails3)"
   ]
  },
  {
   "cell_type": "code",
   "execution_count": 15,
   "metadata": {},
   "outputs": [
    {
     "data": {
      "text/plain": [
       "{'Color': 'Black', 'size': 40}"
      ]
     },
     "execution_count": 15,
     "metadata": {},
     "output_type": "execute_result"
    }
   ],
   "source": [
    "mydetails3['Tech']['Smartwatch']"
   ]
  },
  {
   "cell_type": "code",
   "execution_count": 16,
   "metadata": {},
   "outputs": [
    {
     "data": {
      "text/plain": [
       "dict_items([('Name', 'Dikshit'), ('age', 23), ('Gender', 'Male'), ('DOB', '15-01-1997'), ('Tech', {'Mobile': {'Brand': 'Samsung', 'Name': 'M40', 'RAM': '8 GB'}, 'Smartwatch': {'Color': 'Black', 'size': 40}})])"
      ]
     },
     "execution_count": 16,
     "metadata": {},
     "output_type": "execute_result"
    }
   ],
   "source": [
    "## below code returns in the tuple format\n",
    "mydetails3.items()"
   ]
  },
  {
   "cell_type": "code",
   "execution_count": 17,
   "metadata": {},
   "outputs": [
    {
     "data": {
      "text/plain": [
       "dict_keys(['Name', 'age', 'Gender', 'DOB', 'Tech'])"
      ]
     },
     "execution_count": 17,
     "metadata": {},
     "output_type": "execute_result"
    }
   ],
   "source": [
    "## return only keys\n",
    "mydetails3.keys()"
   ]
  },
  {
   "cell_type": "code",
   "execution_count": 18,
   "metadata": {},
   "outputs": [
    {
     "data": {
      "text/plain": [
       "dict_values(['Dikshit', 23, 'Male', '15-01-1997', {'Mobile': {'Brand': 'Samsung', 'Name': 'M40', 'RAM': '8 GB'}, 'Smartwatch': {'Color': 'Black', 'size': 40}}])"
      ]
     },
     "execution_count": 18,
     "metadata": {},
     "output_type": "execute_result"
    }
   ],
   "source": [
    "## return only values\n",
    "mydetails3.values()"
   ]
  },
  {
   "cell_type": "code",
   "execution_count": 19,
   "metadata": {},
   "outputs": [
    {
     "name": "stdout",
     "output_type": "stream",
     "text": [
      "(0, ('Name', 'Dikshit'))\n",
      "(1, ('age', 23))\n",
      "(2, ('Gender', 'Male'))\n",
      "(3, ('DOB', '15-01-1997'))\n",
      "(4, ('Tech', {'Mobile': {'Brand': 'Samsung', 'Name': 'M40', 'RAM': '8 GB'}, 'Smartwatch': {'Color': 'Black', 'size': 40}}))\n"
     ]
    }
   ],
   "source": [
    "## dict comprehensions\n",
    "\n",
    "for pair in enumerate(mydetails3.items()):\n",
    "    print(pair)"
   ]
  },
  {
   "cell_type": "code",
   "execution_count": 20,
   "metadata": {},
   "outputs": [],
   "source": [
    "##{k:v for k,v in mydetails3.items() if k == 'DOB'}"
   ]
  },
  {
   "cell_type": "code",
   "execution_count": null,
   "metadata": {},
   "outputs": [],
   "source": []
  }
 ],
 "metadata": {
  "kernelspec": {
   "display_name": "Python 3",
   "language": "python",
   "name": "python3"
  },
  "language_info": {
   "codemirror_mode": {
    "name": "ipython",
    "version": 3
   },
   "file_extension": ".py",
   "mimetype": "text/x-python",
   "name": "python",
   "nbconvert_exporter": "python",
   "pygments_lexer": "ipython3",
   "version": "3.7.0"
  }
 },
 "nbformat": 4,
 "nbformat_minor": 2
}
