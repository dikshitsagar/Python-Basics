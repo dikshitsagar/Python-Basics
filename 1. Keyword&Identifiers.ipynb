{
 "cells": [
  {
   "cell_type": "markdown",
   "metadata": {},
   "source": [
    "### Keywords"
   ]
  },
  {
   "cell_type": "markdown",
   "metadata": {},
   "source": [
    "* Keywords are reserved words in python and it can't be used variable name or function name or identfier name.\n",
    "* They define the syntax and structure of the program.\n",
    "* Keywords are case sensitve"
   ]
  },
  {
   "cell_type": "code",
   "execution_count": 1,
   "metadata": {
    "tags": []
   },
   "outputs": [
    {
     "name": "stdout",
     "output_type": "stream",
     "text": [
      "['False', 'None', 'True', 'and', 'as', 'assert', 'async', 'await', 'break', 'class', 'continue', 'def', 'del', 'elif', 'else', 'except', 'finally', 'for', 'from', 'global', 'if', 'import', 'in', 'is', 'lambda', 'nonlocal', 'not', 'or', 'pass', 'raise', 'return', 'try', 'while', 'with', 'yield']\n"
     ]
    }
   ],
   "source": [
    "import keyword\n",
    "\n",
    "print(keyword.kwlist)"
   ]
  },
  {
   "cell_type": "markdown",
   "metadata": {},
   "source": [
    "### Identifier"
   ]
  },
  {
   "cell_type": "markdown",
   "metadata": {},
   "source": [
    "Identifier is the name give to object, class or function variables etc. In python it helps diffrentiating one entity from other.\n",
    "\n",
    "#### Rules of Identifier :--\n",
    "\n",
    "* Identifiers are combination of letters in lower case(a-z) or UPPER CASE(A-Z) or digits(0-9) or an underscore(_)\n",
    "* An Identifier can't start with number. Eg : 1var is Invalide and var1 is valid\n",
    "* Keywords can't be used as a identifier\n"
   ]
  },
  {
   "cell_type": "code",
   "execution_count": 7,
   "metadata": {},
   "outputs": [
    {
     "ename": "SyntaxError",
     "evalue": "invalid syntax (<ipython-input-7-6c6650e89e40>, line 2)",
     "output_type": "error",
     "traceback": [
      "\u001b[1;36m  File \u001b[1;32m\"<ipython-input-7-6c6650e89e40>\"\u001b[1;36m, line \u001b[1;32m2\u001b[0m\n\u001b[1;33m    if = 'hello'  # keywords can't be indentifiers.\u001b[0m\n\u001b[1;37m       ^\u001b[0m\n\u001b[1;31mSyntaxError\u001b[0m\u001b[1;31m:\u001b[0m invalid syntax\n"
     ]
    }
   ],
   "source": [
    "abc_12 = 190.98\n",
    "if = 'hello'  # keywords can't be indentifiers.\n"
   ]
  },
  {
   "cell_type": "code",
   "execution_count": 2,
   "metadata": {},
   "outputs": [],
   "source": [
    "abc_12 = 200.1 # identifier can't start with a digit. \n",
    "# and we can't use special symbols like @,$,%,#,! in the identifier"
   ]
  },
  {
   "cell_type": "code",
   "execution_count": 3,
   "metadata": {},
   "outputs": [
    {
     "data": {
      "text/plain": [
       "200.1"
      ]
     },
     "execution_count": 3,
     "metadata": {},
     "output_type": "execute_result"
    }
   ],
   "source": [
    "abc_12"
   ]
  },
  {
   "cell_type": "code",
   "execution_count": 3,
   "metadata": {},
   "outputs": [
    {
     "data": {
      "text/plain": [
       "'Fill the main diagonal of the given array of any dimensionality.\\n\\n    For an array `a` with ``a.ndim >= 2``, the diagonal is the list of\\n    locations with indices ``a[i, ..., i]`` all identical. This function\\n    modifies the input array in-place, it does not return a value.\\n\\n    Parameters\\n    ----------\\n    a : array, at least 2-D.\\n      Array whose diagonal is to be filled, it gets modified in-place.\\n\\n    val : scalar\\n      Value to be written on the diagonal, its type must be compatible with\\n      that of the array a.\\n\\n    wrap : bool\\n      For tall matrices in NumPy version up to 1.6.2, the\\n      diagonal \"wrapped\" after N columns. You can have this behavior\\n      with this option. This affects only tall matrices.\\n\\n    See also\\n    --------\\n    diag_indices, diag_indices_from\\n\\n    Notes\\n    -----\\n    .. versionadded:: 1.4.0\\n\\n    This functionality can be obtained via `diag_indices`, but internally\\n    this version uses a much faster implementation that never constructs the\\n    indices and uses simple slicing.\\n\\n    Examples\\n    --------\\n    >>> a = np.zeros((3, 3), int)\\n    >>> np.fill_diagonal(a, 5)\\n    >>> a\\n    array([[5, 0, 0],\\n           [0, 5, 0],\\n           [0, 0, 5]])\\n\\n    The same function can operate on a 4-D array:\\n\\n    >>> a = np.zeros((3, 3, 3, 3), int)\\n    >>> np.fill_diagonal(a, 4)\\n\\n    We only show a few blocks for clarity:\\n\\n    >>> a[0, 0]\\n    array([[4, 0, 0],\\n           [0, 0, 0],\\n           [0, 0, 0]])\\n    >>> a[1, 1]\\n    array([[0, 0, 0],\\n           [0, 4, 0],\\n           [0, 0, 0]])\\n    >>> a[2, 2]\\n    array([[0, 0, 0],\\n           [0, 0, 0],\\n           [0, 0, 4]])\\n\\n    The wrap option affects only tall matrices:\\n\\n    >>> # tall matrices no wrap\\n    >>> a = np.zeros((5, 3), int)\\n    >>> np.fill_diagonal(a, 4)\\n    >>> a\\n    array([[4, 0, 0],\\n           [0, 4, 0],\\n           [0, 0, 4],\\n           [0, 0, 0],\\n           [0, 0, 0]])\\n\\n    >>> # tall matrices wrap\\n    >>> a = np.zeros((5, 3), int)\\n    >>> np.fill_diagonal(a, 4, wrap=True)\\n    >>> a\\n    array([[4, 0, 0],\\n           [0, 4, 0],\\n           [0, 0, 4],\\n           [0, 0, 0],\\n           [4, 0, 0]])\\n\\n    >>> # wide matrices\\n    >>> a = np.zeros((3, 5), int)\\n    >>> np.fill_diagonal(a, 4, wrap=True)\\n    >>> a\\n    array([[4, 0, 0, 0, 0],\\n           [0, 4, 0, 0, 0],\\n           [0, 0, 4, 0, 0]])\\n\\n    The anti-diagonal can be filled by reversing the order of elements\\n    using either `numpy.flipud` or `numpy.fliplr`.\\n\\n    >>> a = np.zeros((3, 3), int);\\n    >>> np.fill_diagonal(np.fliplr(a), [1,2,3])  # Horizontal flip\\n    >>> a\\n    array([[0, 0, 1],\\n           [0, 2, 0],\\n           [3, 0, 0]])\\n    >>> np.fill_diagonal(np.flipud(a), [1,2,3])  # Vertical flip\\n    >>> a\\n    array([[0, 0, 3],\\n           [0, 2, 0],\\n           [1, 0, 0]])\\n\\n    Note that the order in which the diagonal is filled varies depending\\n    on the flip function.\\n    '"
      ]
     },
     "execution_count": 3,
     "metadata": {},
     "output_type": "execute_result"
    }
   ],
   "source": [
    "import numpy\n",
    "#dir(numpy)\n",
    "numpy.fill_diagonal.__doc__"
   ]
  },
  {
   "cell_type": "code",
   "execution_count": null,
   "metadata": {},
   "outputs": [],
   "source": []
  }
 ],
 "metadata": {
  "kernelspec": {
   "display_name": "Python 3",
   "language": "python",
   "name": "python3"
  },
  "language_info": {
   "codemirror_mode": {
    "name": "ipython",
    "version": 3
   },
   "file_extension": ".py",
   "mimetype": "text/x-python",
   "name": "python",
   "nbconvert_exporter": "python",
   "pygments_lexer": "ipython3",
   "version": "3.7.0"
  }
 },
 "nbformat": 4,
 "nbformat_minor": 2
}
