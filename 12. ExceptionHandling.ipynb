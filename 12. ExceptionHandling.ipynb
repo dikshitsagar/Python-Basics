{
 "cells": [
  {
   "cell_type": "code",
   "execution_count": 1,
   "metadata": {
    "tags": []
   },
   "outputs": [
    {
     "name": "stdout",
     "output_type": "stream",
     "text": [
      "Entry value is:  b\n",
      "Oops! <class 'ValueError'> occured\n",
      "Entry value is:  0\n",
      "Oops! <class 'ZeroDivisionError'> occured\n",
      "Entry value is:  2\n"
     ]
    }
   ],
   "source": [
    "import sys\n",
    "lst = ['b','0',2]\n",
    "\n",
    "for i in lst:\n",
    "    try:\n",
    "        print('Entry value is: ', i)\n",
    "        r = 1 / int(i)\n",
    "    except:\n",
    "        print('Oops!',sys.exc_info()[0],'occured')"
   ]
  },
  {
   "cell_type": "code",
   "execution_count": 3,
   "metadata": {},
   "outputs": [
    {
     "ename": "TypeError",
     "evalue": "unsupported operand type(s) for /: 'int' and 'str'",
     "output_type": "error",
     "traceback": [
      "\u001b[1;31m---------------------------------------------------------------------------\u001b[0m",
      "\u001b[1;31mTypeError\u001b[0m                                 Traceback (most recent call last)",
      "\u001b[1;32m<ipython-input-3-1b97f7038607>\u001b[0m in \u001b[0;36m<module>\u001b[1;34m()\u001b[0m\n\u001b[1;32m----> 1\u001b[1;33m \u001b[1;36m1\u001b[0m\u001b[1;33m/\u001b[0m\u001b[1;34m'b'\u001b[0m\u001b[1;33m\u001b[0m\u001b[0m\n\u001b[0m",
      "\u001b[1;31mTypeError\u001b[0m: unsupported operand type(s) for /: 'int' and 'str'"
     ]
    }
   ],
   "source": [
    "1/'b'"
   ]
  },
  {
   "cell_type": "markdown",
   "metadata": {},
   "source": [
    "### Multiple exception blocks"
   ]
  },
  {
   "cell_type": "code",
   "execution_count": 13,
   "metadata": {
    "tags": []
   },
   "outputs": [
    {
     "name": "stdout",
     "output_type": "stream",
     "text": [
      "**********************\n",
      "Entry value is:  b\n",
      "This is value error\n",
      "**********************\n",
      "Entry value is:  0\n",
      "This is Zero Division Error\n",
      "**********************\n",
      "Entry value is:  2\n"
     ]
    }
   ],
   "source": [
    "for i in lst:\n",
    "    try:\n",
    "        print('**********************')\n",
    "        print('Entry value is: ', i)\n",
    "        r = 1 / int(i)\n",
    "    except(ValueError):\n",
    "        print('This is value error')\n",
    "    except(ZeroDivisionError):\n",
    "        print('This is Zero Division Error')\n",
    "    except:\n",
    "        print('Some other error')\n",
    "        "
   ]
  },
  {
   "cell_type": "markdown",
   "metadata": {},
   "source": [
    "### Raising error"
   ]
  },
  {
   "cell_type": "code",
   "execution_count": 1,
   "metadata": {
    "tags": []
   },
   "outputs": [
    {
     "name": "stdout",
     "output_type": "stream",
     "text": [
      "Enter Positive Number0\n",
      "Error: Entered negative number\n",
      "This(finally block) will execute, No matter what\n"
     ]
    }
   ],
   "source": [
    "try:\n",
    "    num = int(input('Enter Positive Number'))\n",
    "    if num <=0 :\n",
    "        raise ValueError(\"Error: Entered negative number\")\n",
    "except ValueError as e:\n",
    "    print(e)\n",
    "finally:\n",
    "    print('This(finally block) will execute, No matter what')"
   ]
  },
  {
   "cell_type": "code",
   "execution_count": null,
   "metadata": {},
   "outputs": [],
   "source": []
  }
 ],
 "metadata": {
  "kernelspec": {
   "display_name": "Python 3",
   "language": "python",
   "name": "python3"
  },
  "language_info": {
   "codemirror_mode": {
    "name": "ipython",
    "version": 3
   },
   "file_extension": ".py",
   "mimetype": "text/x-python",
   "name": "python",
   "nbconvert_exporter": "python",
   "pygments_lexer": "ipython3",
   "version": "3.7.0"
  }
 },
 "nbformat": 4,
 "nbformat_minor": 2
}
